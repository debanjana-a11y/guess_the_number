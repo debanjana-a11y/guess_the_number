{
 "cells": [
  {
   "cell_type": "code",
   "execution_count": 2,
   "id": "b78e1d86-b034-477a-ae99-3b200433b9f1",
   "metadata": {},
   "outputs": [
    {
     "name": "stdin",
     "output_type": "stream",
     "text": [
      "Enter your name:\n",
      " Dibyasha\n"
     ]
    },
    {
     "name": "stdout",
     "output_type": "stream",
     "text": [
      "Hello Dibyasha! Let's start the game!\n",
      "_ _ "
     ]
    },
    {
     "name": "stdin",
     "output_type": "stream",
     "text": [
      "\n",
      "Guess the number:  34\n"
     ]
    },
    {
     "name": "stdout",
     "output_type": "stream",
     "text": [
      "Wrong guess! The number is greater than 34\n",
      "You have 9 chances left\n",
      "_ _ "
     ]
    },
    {
     "name": "stdin",
     "output_type": "stream",
     "text": [
      "\n",
      "Guess the number:  45\n"
     ]
    },
    {
     "name": "stdout",
     "output_type": "stream",
     "text": [
      "Wrong guess! The number is greater than 45\n",
      "You have 8 chances left\n",
      "_ _ "
     ]
    },
    {
     "name": "stdin",
     "output_type": "stream",
     "text": [
      "\n",
      "Guess the number:  56\n"
     ]
    },
    {
     "name": "stdout",
     "output_type": "stream",
     "text": [
      "Wrong guess! The number is greater than 56\n",
      "You have 7 chances left\n",
      "_ _ "
     ]
    },
    {
     "name": "stdin",
     "output_type": "stream",
     "text": [
      "\n",
      "Guess the number:  67\n"
     ]
    },
    {
     "name": "stdout",
     "output_type": "stream",
     "text": [
      "Wrong guess! The number is greater than 67\n",
      "You have 6 chances left\n",
      "_ _ "
     ]
    },
    {
     "name": "stdin",
     "output_type": "stream",
     "text": [
      "\n",
      "Guess the number:  78\n"
     ]
    },
    {
     "name": "stdout",
     "output_type": "stream",
     "text": [
      "Wrong guess! The number is greater than 78\n",
      "You have 5 chances left\n",
      "_ _ "
     ]
    },
    {
     "name": "stdin",
     "output_type": "stream",
     "text": [
      "\n",
      "Guess the number:  88\n"
     ]
    },
    {
     "name": "stdout",
     "output_type": "stream",
     "text": [
      "Wrong guess! The number is greater than 88\n",
      "You have 4 chances left\n",
      "_ _ "
     ]
    },
    {
     "name": "stdin",
     "output_type": "stream",
     "text": [
      "\n",
      "Guess the number:  98\n"
     ]
    },
    {
     "name": "stdout",
     "output_type": "stream",
     "text": [
      "Wrong guess! The number is less than 98\n",
      "You have 3 chances left\n",
      "_ _ "
     ]
    },
    {
     "name": "stdin",
     "output_type": "stream",
     "text": [
      "\n",
      "Guess the number:  90\n"
     ]
    },
    {
     "name": "stdout",
     "output_type": "stream",
     "text": [
      "Wrong guess! The number is greater than 90\n",
      "You have 2 chances left\n",
      "_ _ "
     ]
    },
    {
     "name": "stdin",
     "output_type": "stream",
     "text": [
      "\n",
      "Guess the number:  95\n"
     ]
    },
    {
     "name": "stdout",
     "output_type": "stream",
     "text": [
      "Wrong guess! The number is less than 95\n",
      "You have 1 chances left\n",
      "_ _ "
     ]
    },
    {
     "name": "stdin",
     "output_type": "stream",
     "text": [
      "\n",
      "Guess the number:  92\n"
     ]
    },
    {
     "name": "stdout",
     "output_type": "stream",
     "text": [
      "Wrong guess! The number is greater than 92\n",
      "You lose!\n"
     ]
    },
    {
     "name": "stdin",
     "output_type": "stream",
     "text": [
      "Play Again (Y/N)?  Y\n"
     ]
    },
    {
     "name": "stdout",
     "output_type": "stream",
     "text": [
      "_ _ "
     ]
    },
    {
     "name": "stdin",
     "output_type": "stream",
     "text": [
      "\n",
      "Guess the number:  23\n"
     ]
    },
    {
     "name": "stdout",
     "output_type": "stream",
     "text": [
      "Wrong guess! The number is greater than 23\n",
      "You have 9 chances left\n",
      "_ _ "
     ]
    },
    {
     "name": "stdin",
     "output_type": "stream",
     "text": [
      "\n",
      "Guess the number:  90\n"
     ]
    },
    {
     "name": "stdout",
     "output_type": "stream",
     "text": [
      "Wrong guess! The number is greater than 90\n",
      "You have 8 chances left\n",
      "_ _ "
     ]
    },
    {
     "name": "stdin",
     "output_type": "stream",
     "text": [
      "\n",
      "Guess the number:  91\n"
     ]
    },
    {
     "name": "stdout",
     "output_type": "stream",
     "text": [
      "Wrong guess! The number is greater than 91\n",
      "You have 7 chances left\n",
      "_ _ "
     ]
    },
    {
     "name": "stdin",
     "output_type": "stream",
     "text": [
      "\n",
      "Guess the number:  92\n"
     ]
    },
    {
     "name": "stdout",
     "output_type": "stream",
     "text": [
      "Wrong guess! The number is greater than 92\n",
      "You have 6 chances left\n",
      "_ _ "
     ]
    },
    {
     "name": "stdin",
     "output_type": "stream",
     "text": [
      "\n",
      "Guess the number:  98\n"
     ]
    },
    {
     "name": "stdout",
     "output_type": "stream",
     "text": [
      "Wrong guess! The number is less than 98\n",
      "You have 5 chances left\n",
      "_ _ "
     ]
    },
    {
     "name": "stdin",
     "output_type": "stream",
     "text": [
      "\n",
      "Guess the number:  95\n"
     ]
    },
    {
     "name": "stdout",
     "output_type": "stream",
     "text": [
      "You won! Your score is 50\n"
     ]
    },
    {
     "name": "stdin",
     "output_type": "stream",
     "text": [
      "Play Again (Y/N)?  N\n"
     ]
    },
    {
     "name": "stdout",
     "output_type": "stream",
     "text": [
      "Thanks for playing.\n"
     ]
    }
   ],
   "source": [
    "import random\n",
    "\n",
    "name = input(\"Enter your name:\\n\")\n",
    "print(f\"Hello {name}! Let's start the game!\")\n",
    "\n",
    "chances = None\n",
    "answer = None\n",
    "\n",
    "def initialize():\n",
    "    global answer, chances\n",
    "    answer = random.randint(0, 100)\n",
    "    chances = 10\n",
    "\n",
    "def playAgain():\n",
    "    play = input(\"Play Again (Y/N)? \")\n",
    "    if play == 'Y':\n",
    "        initialize()\n",
    "    return play\n",
    "\n",
    "initialize()\n",
    "\n",
    "while chances > 0 :\n",
    "    for i in str(answer):\n",
    "        print(\"_\", end = \" \")\n",
    "        \n",
    "    guess = int(input(\"\\nGuess the number: \"))\n",
    "    if guess == answer:\n",
    "        print(f'You won! Your score is {chances * 10}')\n",
    "        if playAgain() == 'N':\n",
    "            break\n",
    "        else:\n",
    "            continue\n",
    "    elif guess > answer:\n",
    "        print(f'Wrong guess! The number is less than {guess}')\n",
    "    else:\n",
    "        print(f'Wrong guess! The number is greater than {guess}')\n",
    "    \n",
    "    chances -= 1\n",
    "    \n",
    "    if chances == 0:\n",
    "        print('You lose!')\n",
    "        if playAgain() == 'N': break\n",
    "    else:\n",
    "        print(f'You have {chances} chances left')\n",
    "\n",
    "print(\"Thanks for playing.\")"
   ]
  },
  {
   "cell_type": "code",
   "execution_count": null,
   "id": "54adac53-4d8e-4a3a-9c01-4af05434742f",
   "metadata": {},
   "outputs": [],
   "source": []
  },
  {
   "cell_type": "code",
   "execution_count": null,
   "id": "f87df934-986f-4167-938a-5b6a5969b8b1",
   "metadata": {},
   "outputs": [],
   "source": []
  },
  {
   "cell_type": "code",
   "execution_count": null,
   "id": "99262058-68c7-40b6-af29-461f2eaf61ec",
   "metadata": {},
   "outputs": [],
   "source": []
  }
 ],
 "metadata": {
  "kernelspec": {
   "display_name": "Python 3 (ipykernel)",
   "language": "python",
   "name": "python3"
  },
  "language_info": {
   "codemirror_mode": {
    "name": "ipython",
    "version": 3
   },
   "file_extension": ".py",
   "mimetype": "text/x-python",
   "name": "python",
   "nbconvert_exporter": "python",
   "pygments_lexer": "ipython3",
   "version": "3.10.6"
  }
 },
 "nbformat": 4,
 "nbformat_minor": 5
}
