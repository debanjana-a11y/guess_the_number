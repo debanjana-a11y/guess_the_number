{
 "cells": [
  {
   "cell_type": "code",
   "execution_count": 12,
   "id": "b78e1d86-b034-477a-ae99-3b200433b9f1",
   "metadata": {},
   "outputs": [
    {
     "ename": "SyntaxError",
     "evalue": "invalid syntax. Maybe you meant '==' or ':=' instead of '='? (1130348761.py, line 9)",
     "output_type": "error",
     "traceback": [
      "\u001b[0;36m  Cell \u001b[0;32mIn [12], line 9\u001b[0;36m\u001b[0m\n\u001b[0;31m    guess = input('Guess the number: ')\u001b[0m\n\u001b[0m    ^\u001b[0m\n\u001b[0;31mSyntaxError\u001b[0m\u001b[0;31m:\u001b[0m invalid syntax. Maybe you meant '==' or ':=' instead of '='?\n"
     ]
    }
   ],
   "source": [
    "name = input(\"Enter your name:\\n\")\n",
    "print(f\"Hello {name}! Let's start the game!\")\n",
    "\n",
    "answer = 51\n",
    "chances = 10\n",
    "\n",
    "while(chances > 0) {\n",
    "    # print('_ _\\n')\n",
    "    guess := input('Guess the number: ')\n",
    "\n",
    "    # if guess == answer:\n",
    "    #     print(f'You won! Your score is {chances * 10}')\n",
    "    #     break\n",
    "    # elif guess > answer:\n",
    "    #     print(f'Wrong guess! The number is higher than {guess}')\n",
    "    # else:\n",
    "    #     print(f'Wrong guess! The number is less than {guess}')\n",
    "    \n",
    "#     chances--\n",
    "    \n",
    "#     if chances == 0:\n",
    "#         print('You lose!')\n",
    "}"
   ]
  },
  {
   "cell_type": "code",
   "execution_count": null,
   "id": "b498b68e-7c0f-427a-b809-be99e01645d9",
   "metadata": {},
   "outputs": [],
   "source": []
  }
 ],
 "metadata": {
  "kernelspec": {
   "display_name": "Python 3 (ipykernel)",
   "language": "python",
   "name": "python3"
  },
  "language_info": {
   "codemirror_mode": {
    "name": "ipython",
    "version": 3
   },
   "file_extension": ".py",
   "mimetype": "text/x-python",
   "name": "python",
   "nbconvert_exporter": "python",
   "pygments_lexer": "ipython3",
   "version": "3.10.6"
  }
 },
 "nbformat": 4,
 "nbformat_minor": 5
}
